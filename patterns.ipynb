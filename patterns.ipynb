{
  "nbformat": 4,
  "nbformat_minor": 0,
  "metadata": {
    "colab": {
      "provenance": [],
      "authorship_tag": "ABX9TyPAWGVTCzR2uD8AzscI6sN6",
      "include_colab_link": true
    },
    "kernelspec": {
      "name": "python3",
      "display_name": "Python 3"
    },
    "language_info": {
      "name": "python"
    }
  },
  "cells": [
    {
      "cell_type": "markdown",
      "metadata": {
        "id": "view-in-github",
        "colab_type": "text"
      },
      "source": [
        "<a href=\"https://colab.research.google.com/github/SalipelaSwapna123/patternsinpython/blob/main/patterns.ipynb\" target=\"_parent\"><img src=\"https://colab.research.google.com/assets/colab-badge.svg\" alt=\"Open In Colab\"/></a>"
      ]
    },
    {
      "cell_type": "code",
      "execution_count": null,
      "metadata": {
        "colab": {
          "base_uri": "https://localhost:8080/"
        },
        "id": "rP88auDjMzAD",
        "outputId": "25982a4f-952b-4ecc-8f9b-be2376dec2f7"
      },
      "outputs": [
        {
          "output_type": "stream",
          "name": "stdout",
          "text": [
            "Swapna Salipela\n",
            "Swapna Swapna Swapna \n"
          ]
        }
      ],
      "source": [
        "# let us know string concatination and repeatation symbols\n",
        "# + \"concatination\" and * repeatation symbols\n",
        "print(\"Swapna \" + \"Salipela\")\n",
        "print(\"Swapna \" * 3)\n"
      ]
    },
    {
      "cell_type": "code",
      "source": [
        "# pattern1:\n",
        "# rows=5\n",
        "rows=int(input(\"Enter no.of rows :\"))\n",
        "for i in range(1,rows+1):\n",
        "  print(\"*\" * rows)\n",
        "\n"
      ],
      "metadata": {
        "colab": {
          "base_uri": "https://localhost:8080/"
        },
        "id": "WDb4dhsgNQvG",
        "outputId": "4e2f1493-bcd0-4385-f728-1644dc24379a"
      },
      "execution_count": null,
      "outputs": [
        {
          "output_type": "stream",
          "name": "stdout",
          "text": [
            "Enter no.of rows :6\n",
            "******\n",
            "******\n",
            "******\n",
            "******\n",
            "******\n",
            "******\n"
          ]
        }
      ]
    },
    {
      "cell_type": "code",
      "source": [
        "# pattern2:\n",
        "# rows=5\n",
        "row=int(input(\"Enter no of rows: \"))\n",
        "for i in range(1,row+1):\n",
        "  print(\"*\" * i)\n"
      ],
      "metadata": {
        "colab": {
          "base_uri": "https://localhost:8080/"
        },
        "id": "FSQ33ii7OgPZ",
        "outputId": "3fab7d10-4b60-47e5-cd20-0a5d2a1be304"
      },
      "execution_count": null,
      "outputs": [
        {
          "output_type": "stream",
          "name": "stdout",
          "text": [
            "Enter no of rows: 4\n",
            "*\n",
            "**\n",
            "***\n",
            "****\n"
          ]
        }
      ]
    },
    {
      "cell_type": "code",
      "source": [
        "# pattern3:\n",
        "row1=int(input(\"Enter no of rows: \"))\n",
        "spaces=row1-1\n",
        "for i in range(1,row1+1):\n",
        "  print(\" \" * spaces + \"*\" * i  )\n",
        "  spaces -=1\n",
        "\n"
      ],
      "metadata": {
        "colab": {
          "base_uri": "https://localhost:8080/"
        },
        "id": "ajP46JCyQ044",
        "outputId": "e078472f-8eff-4921-bc04-beb031a1170f"
      },
      "execution_count": null,
      "outputs": [
        {
          "output_type": "stream",
          "name": "stdout",
          "text": [
            "Enter no of rows: 5\n",
            "    *\n",
            "   **\n",
            "  ***\n",
            " ****\n",
            "*****\n"
          ]
        }
      ]
    },
    {
      "cell_type": "code",
      "source": [
        "# pattern4:\n",
        "row2=int(input(\"Enter no of rows: \"))\n",
        "spaces2=row2-1\n",
        "for i in range(1,row2+1):\n",
        "  print(\" \" * spaces2 + \"*\" * (2*i-1))\n",
        "  spaces2-=1\n"
      ],
      "metadata": {
        "colab": {
          "base_uri": "https://localhost:8080/"
        },
        "id": "kHGJ8oHNSWdG",
        "outputId": "c42b169e-545f-4f2f-c27a-7998fd17eaf3"
      },
      "execution_count": null,
      "outputs": [
        {
          "output_type": "stream",
          "name": "stdout",
          "text": [
            "Enter no of rows: 6\n",
            "     *\n",
            "    ***\n",
            "   *****\n",
            "  *******\n",
            " *********\n",
            "***********\n"
          ]
        }
      ]
    },
    {
      "cell_type": "code",
      "source": [
        "# pattern5:\n",
        "rows4=int(input(\"Enter a number\"))\n",
        "spaces4=0\n",
        "for i in range(rows4,0,-1):\n",
        "  print(\" \" * spaces4 + \"*\" * (2*i-1) )\n",
        "  spaces4 += 1"
      ],
      "metadata": {
        "colab": {
          "base_uri": "https://localhost:8080/"
        },
        "id": "TD_OtGfvvzns",
        "outputId": "78fc691e-b001-4cc9-ef11-4c920a8af55a"
      },
      "execution_count": 4,
      "outputs": [
        {
          "output_type": "stream",
          "name": "stdout",
          "text": [
            "Enter a number6\n",
            "***********\n",
            " *********\n",
            "  *******\n",
            "   *****\n",
            "    ***\n",
            "     *\n"
          ]
        }
      ]
    },
    {
      "cell_type": "code",
      "source": [
        "# pattern6:\n",
        "rows6=int(input(\"Enter a number : \"))\n",
        "spaces6=rows6-1\n",
        "for i in range(1,rows6+1):\n",
        "   print(\" \" * spaces6 + \"*\" * (2*i-1) )\n",
        "   spaces6 -=1\n",
        "# print(spaces6)\n",
        "spaces6  += 2\n",
        "for j in range(rows6-1,0,-1):\n",
        "   print(\" \" * spaces6 + \"*\" * (2*j-1) )\n",
        "   spaces6+=1\n",
        "\n"
      ],
      "metadata": {
        "id": "jj_tmw71xnK0",
        "outputId": "b446e566-bd6c-4a52-8d05-5bae92b25365",
        "colab": {
          "base_uri": "https://localhost:8080/"
        }
      },
      "execution_count": 8,
      "outputs": [
        {
          "output_type": "stream",
          "name": "stdout",
          "text": [
            "Enter a number : 6\n",
            "     *\n",
            "    ***\n",
            "   *****\n",
            "  *******\n",
            " *********\n",
            "***********\n",
            " *********\n",
            "  *******\n",
            "   *****\n",
            "    ***\n",
            "     *\n"
          ]
        }
      ]
    },
    {
      "cell_type": "code",
      "source": [
        "# pattern7\n",
        "rows7 = int(input(\"Enter a number :\"))\n",
        "spaces7 = 0\n",
        "for i in range(rows7,0,-1):\n",
        "  print(\" \" * spaces7 + \"*\" * (2*i-1))\n",
        "  spaces7 +=1\n",
        "# print(spaces7)\n",
        "spaces7 -=2\n",
        "for j in range(2,rows7+1):\n",
        "  print(\" \" * spaces7 + \"*\" * (2*j-1))\n",
        "  spaces7 -=1"
      ],
      "metadata": {
        "id": "MZXSikguzdJK",
        "outputId": "870466cd-2e0b-4f30-8ff4-0904211af582",
        "colab": {
          "base_uri": "https://localhost:8080/"
        }
      },
      "execution_count": 14,
      "outputs": [
        {
          "output_type": "stream",
          "name": "stdout",
          "text": [
            "Enter a number :7\n",
            "*************\n",
            " ***********\n",
            "  *********\n",
            "   *******\n",
            "    *****\n",
            "     ***\n",
            "      *\n",
            "     ***\n",
            "    *****\n",
            "   *******\n",
            "  *********\n",
            " ***********\n",
            "*************\n"
          ]
        }
      ]
    },
    {
      "cell_type": "code",
      "source": [
        "# pattern8\n",
        "rows8 = int(input(\"Enter a number :\"))\n",
        "spaces8 =rows8-1\n",
        "for i in range(1,rows8+1):\n",
        "  print(\"*\" * i + \" \" * spaces8)\n",
        "  spaces8 -=1\n",
        "# print(spaces8)\n",
        "spaces8 +=2\n",
        "for j in range(rows8,0,-1):\n",
        "  print(\"*\" * j + \" \" * spaces8)\n",
        "  spaces8 +=1"
      ],
      "metadata": {
        "id": "TJAmvKfP0xry",
        "outputId": "1ace7b1c-eedd-4350-c8c3-8cd7d36db639",
        "colab": {
          "base_uri": "https://localhost:8080/"
        }
      },
      "execution_count": 22,
      "outputs": [
        {
          "output_type": "stream",
          "name": "stdout",
          "text": [
            "Enter a number :6\n",
            "*     \n",
            "**    \n",
            "***   \n",
            "****  \n",
            "***** \n",
            "******\n",
            "****** \n",
            "*****  \n",
            "****   \n",
            "***    \n",
            "**     \n",
            "*      \n"
          ]
        }
      ]
    },
    {
      "cell_type": "code",
      "source": [
        "# pattern9\n",
        "rows9 = int(input(\"Enter a number :\"))\n",
        "spaces9 =rows9-1\n",
        "for i in range(1,rows9+1):\n",
        "  print(\" \" * spaces9 + \"*\" * i )\n",
        "  spaces9 -=1\n",
        "# print(spaces9)\n",
        "\n",
        "spaces9 +=2\n",
        "for j in range(rows9-1,0,-1):\n",
        "  print( \" \" * spaces9+\"*\" * j )\n",
        "  spaces9 +=1"
      ],
      "metadata": {
        "id": "UYvYrmqC2LdV",
        "outputId": "b87dc1a6-a6ea-40e8-89a2-b13903ca2025",
        "colab": {
          "base_uri": "https://localhost:8080/"
        }
      },
      "execution_count": 30,
      "outputs": [
        {
          "output_type": "stream",
          "name": "stdout",
          "text": [
            "Enter a number :7\n",
            "      *\n",
            "     **\n",
            "    ***\n",
            "   ****\n",
            "  *****\n",
            " ******\n",
            "*******\n",
            " ******\n",
            "  *****\n",
            "   ****\n",
            "    ***\n",
            "     **\n",
            "      *\n"
          ]
        }
      ]
    },
    {
      "cell_type": "code",
      "source": [
        "# pattern10\n",
        "rows10 = int(input(\"Enter a number :\"))\n",
        "\n",
        "for i in range(1,rows10+1):\n",
        "  print(\"*\" * i + \" \" * (2*(rows10-i)) +\"*\" * i)\n",
        "  spaces10 -=1\n",
        "# spaces10 -=1\n",
        "for j in range(rows10-1,0,-1):\n",
        "  print(\"*\" * j + \" \" * (2*(rows10-j)) +\"*\" * j)\n",
        "  spaces10 -=1\n"
      ],
      "metadata": {
        "id": "o_4KVI7R8FI4",
        "outputId": "2a857b2d-838e-401e-afa7-ed72c4abc861",
        "colab": {
          "base_uri": "https://localhost:8080/"
        }
      },
      "execution_count": 37,
      "outputs": [
        {
          "output_type": "stream",
          "name": "stdout",
          "text": [
            "Enter a number :6\n",
            "*          *\n",
            "**        **\n",
            "***      ***\n",
            "****    ****\n",
            "*****  *****\n",
            "************\n",
            "*****  *****\n",
            "****    ****\n",
            "***      ***\n",
            "**        **\n",
            "*          *\n"
          ]
        }
      ]
    },
    {
      "cell_type": "code",
      "source": [
        "# pattern11:\n",
        "rows11=int(input(\"Enter a num :\"))\n",
        "spaces11=0\n",
        "for i in range(rows11,0,)"
      ],
      "metadata": {
        "id": "4XQlTvgi-eua"
      },
      "execution_count": null,
      "outputs": []
    }
  ]
}