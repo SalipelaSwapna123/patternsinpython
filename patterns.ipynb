{
  "nbformat": 4,
  "nbformat_minor": 0,
  "metadata": {
    "colab": {
      "provenance": [],
      "authorship_tag": "ABX9TyOM5j/VCzGoDYLSsJBP+xFj",
      "include_colab_link": true
    },
    "kernelspec": {
      "name": "python3",
      "display_name": "Python 3"
    },
    "language_info": {
      "name": "python"
    }
  },
  "cells": [
    {
      "cell_type": "markdown",
      "metadata": {
        "id": "view-in-github",
        "colab_type": "text"
      },
      "source": [
        "<a href=\"https://colab.research.google.com/github/SalipelaSwapna123/1-05-23/blob/main/patterns.ipynb\" target=\"_parent\"><img src=\"https://colab.research.google.com/assets/colab-badge.svg\" alt=\"Open In Colab\"/></a>"
      ]
    },
    {
      "cell_type": "code",
      "execution_count": 4,
      "metadata": {
        "colab": {
          "base_uri": "https://localhost:8080/"
        },
        "id": "rP88auDjMzAD",
        "outputId": "25982a4f-952b-4ecc-8f9b-be2376dec2f7"
      },
      "outputs": [
        {
          "output_type": "stream",
          "name": "stdout",
          "text": [
            "Swapna Salipela\n",
            "Swapna Swapna Swapna \n"
          ]
        }
      ],
      "source": [
        "# let us know string concatination and repeatation symbols\n",
        "# + \"concatination\" and * repeatation symbols\n",
        "print(\"Swapna \" + \"Salipela\")\n",
        "print(\"Swapna \" * 3)\n"
      ]
    },
    {
      "cell_type": "code",
      "source": [
        "# pattern1:\n",
        "# rows=5\n",
        "rows=int(input(\"Enter no.of rows :\"))\n",
        "for i in range(1,rows+1):\n",
        "  print(\"*\" * rows)\n",
        "\n"
      ],
      "metadata": {
        "colab": {
          "base_uri": "https://localhost:8080/"
        },
        "id": "WDb4dhsgNQvG",
        "outputId": "4e2f1493-bcd0-4385-f728-1644dc24379a"
      },
      "execution_count": 8,
      "outputs": [
        {
          "output_type": "stream",
          "name": "stdout",
          "text": [
            "Enter no.of rows :6\n",
            "******\n",
            "******\n",
            "******\n",
            "******\n",
            "******\n",
            "******\n"
          ]
        }
      ]
    },
    {
      "cell_type": "code",
      "source": [
        "# pattern2:\n",
        "# rows=5\n",
        "row=int(input(\"Enter no of rows: \"))\n",
        "for i in range(1,row+1):\n",
        "  print(\"*\" * i)\n"
      ],
      "metadata": {
        "colab": {
          "base_uri": "https://localhost:8080/"
        },
        "id": "FSQ33ii7OgPZ",
        "outputId": "3fab7d10-4b60-47e5-cd20-0a5d2a1be304"
      },
      "execution_count": 10,
      "outputs": [
        {
          "output_type": "stream",
          "name": "stdout",
          "text": [
            "Enter no of rows: 4\n",
            "*\n",
            "**\n",
            "***\n",
            "****\n"
          ]
        }
      ]
    },
    {
      "cell_type": "code",
      "source": [
        "# pattern3:\n",
        "row1=int(input(\"Enter no of rows: \"))\n",
        "spaces=row1-1\n",
        "for i in range(1,row1+1):\n",
        "  print(\" \" * spaces + \"*\" * i  )\n",
        "  spaces -=1\n",
        "\n"
      ],
      "metadata": {
        "colab": {
          "base_uri": "https://localhost:8080/"
        },
        "id": "ajP46JCyQ044",
        "outputId": "e078472f-8eff-4921-bc04-beb031a1170f"
      },
      "execution_count": 13,
      "outputs": [
        {
          "output_type": "stream",
          "name": "stdout",
          "text": [
            "Enter no of rows: 5\n",
            "    *\n",
            "   **\n",
            "  ***\n",
            " ****\n",
            "*****\n"
          ]
        }
      ]
    },
    {
      "cell_type": "code",
      "source": [
        "# pattern4:\n",
        "row2=int(input(\"Enter no of rows: \"))\n",
        "spaces2=row2-1\n",
        "for i in range(1,row2+1):\n",
        "  print(\" \" * spaces2 + \"*\" * (2*i-1))\n",
        "  spaces2-=1\n"
      ],
      "metadata": {
        "colab": {
          "base_uri": "https://localhost:8080/"
        },
        "id": "kHGJ8oHNSWdG",
        "outputId": "c42b169e-545f-4f2f-c27a-7998fd17eaf3"
      },
      "execution_count": 15,
      "outputs": [
        {
          "output_type": "stream",
          "name": "stdout",
          "text": [
            "Enter no of rows: 6\n",
            "     *\n",
            "    ***\n",
            "   *****\n",
            "  *******\n",
            " *********\n",
            "***********\n"
          ]
        }
      ]
    },
    {
      "cell_type": "code",
      "source": [
        "# pattern5:\n",
        "rows3=int(input(\"Enter no of rows: \"))\n",
        "spaces3=0\n",
        "for i in range(rows3 ,0,-1):\n",
        "  print(\" \"* spaces3 + \"*\" * i)\n",
        "  spaces3 +=1\n",
        ""
      ],
      "metadata": {
        "id": "lCyZv5OxTLvB",
        "outputId": "3e39b408-38ac-400e-d483-bf456e4c30f7",
        "colab": {
          "base_uri": "https://localhost:8080/"
        }
      },
      "execution_count": 20,
      "outputs": [
        {
          "output_type": "stream",
          "name": "stdout",
          "text": [
            "Enter no of rows: 6\n",
            "******\n",
            " *****\n",
            "  ****\n",
            "   ***\n",
            "    **\n",
            "     *\n"
          ]
        }
      ]
    }
  ]
}